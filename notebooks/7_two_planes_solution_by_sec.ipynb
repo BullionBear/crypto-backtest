{
 "cells": [
  {
   "cell_type": "markdown",
   "id": "eec11720-a1db-4d48-8c59-a1bbdbee443a",
   "metadata": {},
   "source": [
    "# Two hyperplane trading bot(by second)\n",
    "This section aim to enhance the result by refine the data granular, most exchange broadcast data in seconds,milliseconds, or realtime, which is appearent more informative than hourly data, also lead more challenge analysis and computational exhaustive."
   ]
  },
  {
   "cell_type": "code",
   "execution_count": null,
   "id": "c7d382f6-5cce-4744-8ad8-009cc4aaa74c",
   "metadata": {},
   "outputs": [],
   "source": []
  }
 ],
 "metadata": {
  "kernelspec": {
   "display_name": "Python 3 (ipykernel)",
   "language": "python",
   "name": "python3"
  },
  "language_info": {
   "codemirror_mode": {
    "name": "ipython",
    "version": 3
   },
   "file_extension": ".py",
   "mimetype": "text/x-python",
   "name": "python",
   "nbconvert_exporter": "python",
   "pygments_lexer": "ipython3",
   "version": "3.10.12"
  }
 },
 "nbformat": 4,
 "nbformat_minor": 5
}
