{
 "cells": [
  {
   "cell_type": "markdown",
   "id": "eec11720-a1db-4d48-8c59-a1bbdbee443a",
   "metadata": {},
   "source": [
    "# Two hyperplane trading bot(by second)\n",
    "This section aim to enhance the result by refine the data granular, most exchange broadcast data in seconds,milliseconds, or realtime, which is appearent more informative than hourly data, also lead more challenge analysis and computational exhaustive."
   ]
  },
  {
   "cell_type": "code",
   "execution_count": 4,
   "id": "c7d382f6-5cce-4744-8ad8-009cc4aaa74c",
   "metadata": {},
   "outputs": [
    {
     "name": "stdout",
     "output_type": "stream",
     "text": [
      "Found existing installation: crypto-backtest 0.1.0\n",
      "Uninstalling crypto-backtest-0.1.0:\n",
      "  Successfully uninstalled crypto-backtest-0.1.0\n",
      "Collecting git+https://github.com/BullionBear/crypto-backtest.git\n",
      "  Cloning https://github.com/BullionBear/crypto-backtest.git to /tmp/pip-req-build-f5bmr29d\n",
      "  Running command git clone --filter=blob:none --quiet https://github.com/BullionBear/crypto-backtest.git /tmp/pip-req-build-f5bmr29d\n",
      "  Resolved https://github.com/BullionBear/crypto-backtest.git to commit 694ba6a6ea9643c7ad948af9278ecb3a0cef41e7\n",
      "  Preparing metadata (setup.py) ... \u001b[?25ldone\n",
      "\u001b[?25hRequirement already satisfied: pydantic in /home/yite/BullionBear/crypto-backtest/.venv/lib/python3.10/site-packages (from crypto-backtest==0.1.1) (2.6.3)\n",
      "Requirement already satisfied: pydantic-settings in /home/yite/BullionBear/crypto-backtest/.venv/lib/python3.10/site-packages (from crypto-backtest==0.1.1) (2.2.1)\n",
      "Requirement already satisfied: python-dateutil in /home/yite/BullionBear/crypto-backtest/.venv/lib/python3.10/site-packages (from crypto-backtest==0.1.1) (2.9.0.post0)\n",
      "Requirement already satisfied: annotated-types>=0.4.0 in /home/yite/BullionBear/crypto-backtest/.venv/lib/python3.10/site-packages (from pydantic->crypto-backtest==0.1.1) (0.6.0)\n",
      "Requirement already satisfied: pydantic-core==2.16.3 in /home/yite/BullionBear/crypto-backtest/.venv/lib/python3.10/site-packages (from pydantic->crypto-backtest==0.1.1) (2.16.3)\n",
      "Requirement already satisfied: typing-extensions>=4.6.1 in /home/yite/BullionBear/crypto-backtest/.venv/lib/python3.10/site-packages (from pydantic->crypto-backtest==0.1.1) (4.10.0)\n",
      "Requirement already satisfied: python-dotenv>=0.21.0 in /home/yite/BullionBear/crypto-backtest/.venv/lib/python3.10/site-packages (from pydantic-settings->crypto-backtest==0.1.1) (1.0.1)\n",
      "Requirement already satisfied: six>=1.5 in /home/yite/BullionBear/crypto-backtest/.venv/lib/python3.10/site-packages (from python-dateutil->crypto-backtest==0.1.1) (1.16.0)\n",
      "Building wheels for collected packages: crypto-backtest\n",
      "  Building wheel for crypto-backtest (setup.py) ... \u001b[?25ldone\n",
      "\u001b[?25h  Created wheel for crypto-backtest: filename=crypto_backtest-0.1.1-py3-none-any.whl size=10380 sha256=e2b481caeef49104d48a69d1cfbbf0d9ce9c20422265d5c4b4085d6075c71e2e\n",
      "  Stored in directory: /tmp/pip-ephem-wheel-cache-ehmosjbi/wheels/14/d1/5f/193347d44b51670dd287000ac535cdb7a8fc3f84e426532382\n",
      "Successfully built crypto-backtest\n",
      "Installing collected packages: crypto-backtest\n",
      "Successfully installed crypto-backtest-0.1.1\n",
      "\n",
      "\u001b[1m[\u001b[0m\u001b[34;49mnotice\u001b[0m\u001b[1;39;49m]\u001b[0m\u001b[39;49m A new release of pip is available: \u001b[0m\u001b[31;49m23.2.1\u001b[0m\u001b[39;49m -> \u001b[0m\u001b[32;49m24.0\u001b[0m\n",
      "\u001b[1m[\u001b[0m\u001b[34;49mnotice\u001b[0m\u001b[1;39;49m]\u001b[0m\u001b[39;49m To update, run: \u001b[0m\u001b[32;49mpip install --upgrade pip\u001b[0m\n"
     ]
    }
   ],
   "source": [
    "# Run it when crypto-backtest is updated, and then restart the kernel\n",
    "!pip uninstall crypto-backtest -y\n",
    "!pip install git+https://github.com/BullionBear/crypto-backtest.git"
   ]
  },
  {
   "cell_type": "code",
   "execution_count": 5,
   "id": "2bd86c33-9a0c-4e7d-a3a2-7e241c8cebed",
   "metadata": {},
   "outputs": [
    {
     "ename": "AttributeError",
     "evalue": "'ZipKLineIterator' object has no attribute 'granular'",
     "output_type": "error",
     "traceback": [
      "\u001b[0;31m---------------------------------------------------------------------------\u001b[0m",
      "\u001b[0;31mAttributeError\u001b[0m                            Traceback (most recent call last)",
      "Cell \u001b[0;32mIn[5], line 11\u001b[0m\n\u001b[1;32m      9\u001b[0m end_time \u001b[38;5;241m=\u001b[39m datetime(\u001b[38;5;241m2024\u001b[39m, \u001b[38;5;241m2\u001b[39m, \u001b[38;5;241m1\u001b[39m, tzinfo\u001b[38;5;241m=\u001b[39mtimezone\u001b[38;5;241m.\u001b[39mutc)\u001b[38;5;241m.\u001b[39mtimestamp() \u001b[38;5;241m*\u001b[39m \u001b[38;5;241m1000\u001b[39m \u001b[38;5;241m-\u001b[39m \u001b[38;5;241m1\u001b[39m\n\u001b[1;32m     10\u001b[0m data_source \u001b[38;5;241m=\u001b[39m \u001b[38;5;124m'\u001b[39m\u001b[38;5;124m/home/yite/crypto_data/binance/data\u001b[39m\u001b[38;5;124m'\u001b[39m\n\u001b[0;32m---> 11\u001b[0m kline_iterator \u001b[38;5;241m=\u001b[39m \u001b[43mZipKLineIterator\u001b[49m\u001b[43m(\u001b[49m\u001b[38;5;124;43m'\u001b[39;49m\u001b[38;5;124;43mBTCUSDT\u001b[39;49m\u001b[38;5;124;43m'\u001b[39;49m\u001b[43m,\u001b[49m\u001b[43m \u001b[49m\u001b[43mstart_time\u001b[49m\u001b[43m,\u001b[49m\u001b[43m \u001b[49m\u001b[43mend_time\u001b[49m\u001b[43m,\u001b[49m\u001b[43m \u001b[49m\u001b[43mdata_source\u001b[49m\u001b[43m)\u001b[49m\n\u001b[1;32m     12\u001b[0m df \u001b[38;5;241m=\u001b[39m kline_iterator\u001b[38;5;241m.\u001b[39mto_dataframe()\n\u001b[1;32m     13\u001b[0m df \u001b[38;5;241m=\u001b[39m df[[\u001b[38;5;124m\"\u001b[39m\u001b[38;5;124mopen\u001b[39m\u001b[38;5;124m\"\u001b[39m, \u001b[38;5;124m\"\u001b[39m\u001b[38;5;124mhigh\u001b[39m\u001b[38;5;124m\"\u001b[39m, \u001b[38;5;124m\"\u001b[39m\u001b[38;5;124mlow\u001b[39m\u001b[38;5;124m\"\u001b[39m, \u001b[38;5;124m\"\u001b[39m\u001b[38;5;124mclose\u001b[39m\u001b[38;5;124m\"\u001b[39m, \u001b[38;5;124m\"\u001b[39m\u001b[38;5;124mvolume\u001b[39m\u001b[38;5;124m\"\u001b[39m, \u001b[38;5;124m\"\u001b[39m\u001b[38;5;124mopen_time\u001b[39m\u001b[38;5;124m\"\u001b[39m, \u001b[38;5;124m\"\u001b[39m\u001b[38;5;124mclose_time\u001b[39m\u001b[38;5;124m\"\u001b[39m]]\n",
      "File \u001b[0;32m~/BullionBear/crypto-backtest/.venv/lib/python3.10/site-packages/backtest/components/core/zip_kline_iterator.py:17\u001b[0m, in \u001b[0;36mZipKLineIterator.__init__\u001b[0;34m(self, symbol, start_time, end_time, fs_path, granular)\u001b[0m\n\u001b[1;32m     15\u001b[0m \u001b[38;5;28mself\u001b[39m\u001b[38;5;241m.\u001b[39mend_time \u001b[38;5;241m=\u001b[39m end_time\n\u001b[1;32m     16\u001b[0m \u001b[38;5;28mself\u001b[39m\u001b[38;5;241m.\u001b[39mfs_path \u001b[38;5;241m=\u001b[39m fs_path\n\u001b[0;32m---> 17\u001b[0m \u001b[38;5;28mself\u001b[39m\u001b[38;5;241m.\u001b[39mfs \u001b[38;5;241m=\u001b[39m \u001b[38;5;28;43mself\u001b[39;49m\u001b[38;5;241;43m.\u001b[39;49m\u001b[43m_load_fs_list\u001b[49m\u001b[43m(\u001b[49m\u001b[43m)\u001b[49m\n\u001b[1;32m     18\u001b[0m \u001b[38;5;28mself\u001b[39m\u001b[38;5;241m.\u001b[39mgranular \u001b[38;5;241m=\u001b[39m granular\n\u001b[1;32m     19\u001b[0m \u001b[38;5;28mself\u001b[39m\u001b[38;5;241m.\u001b[39mcurrent_zip_index \u001b[38;5;241m=\u001b[39m \u001b[38;5;241m0\u001b[39m\n",
      "File \u001b[0;32m~/BullionBear/crypto-backtest/.venv/lib/python3.10/site-packages/backtest/components/core/zip_kline_iterator.py:27\u001b[0m, in \u001b[0;36mZipKLineIterator._load_fs_list\u001b[0;34m(self)\u001b[0m\n\u001b[1;32m     22\u001b[0m \u001b[38;5;28;01mdef\u001b[39;00m \u001b[38;5;21m_load_fs_list\u001b[39m(\u001b[38;5;28mself\u001b[39m):\n\u001b[1;32m     23\u001b[0m     \u001b[38;5;66;03m# This method should return a list of paths to the zip files to be processed\u001b[39;00m\n\u001b[1;32m     24\u001b[0m     \u001b[38;5;66;03m# This is a placeholder for the logic to list relevant zip files based on the symbol and date range\u001b[39;00m\n\u001b[1;32m     25\u001b[0m     \u001b[38;5;66;03m# Return a list of file paths\u001b[39;00m\n\u001b[1;32m     26\u001b[0m     symbol \u001b[38;5;241m=\u001b[39m \u001b[38;5;28mself\u001b[39m\u001b[38;5;241m.\u001b[39msymbol\n\u001b[0;32m---> 27\u001b[0m     granular \u001b[38;5;241m=\u001b[39m \u001b[38;5;28;43mself\u001b[39;49m\u001b[38;5;241;43m.\u001b[39;49m\u001b[43mgranular\u001b[49m\n\u001b[1;32m     28\u001b[0m     start_date \u001b[38;5;241m=\u001b[39m datetime\u001b[38;5;241m.\u001b[39mutcfromtimestamp(\u001b[38;5;28mself\u001b[39m\u001b[38;5;241m.\u001b[39mstart_time \u001b[38;5;241m/\u001b[39m \u001b[38;5;241m1000\u001b[39m)\n\u001b[1;32m     29\u001b[0m     end_date \u001b[38;5;241m=\u001b[39m datetime\u001b[38;5;241m.\u001b[39mutcfromtimestamp(\u001b[38;5;28mself\u001b[39m\u001b[38;5;241m.\u001b[39mend_time \u001b[38;5;241m/\u001b[39m \u001b[38;5;241m1000\u001b[39m)  \u001b[38;5;66;03m# Adjust end_date to include the end month\u001b[39;00m\n",
      "\u001b[0;31mAttributeError\u001b[0m: 'ZipKLineIterator' object has no attribute 'granular'"
     ]
    }
   ],
   "source": [
    "# The load hourly data from 2023-05-01 00:00:00 to 2023-10-30 23:59:59 because this peroid is diversified enough and we test from 2023-11-01 00:00:00 to 2024-2-28 23:59:59\n",
    "from backtest.components.core import ZipKLineIterator\n",
    "from backtest.components import KLineMarket\n",
    "\n",
    "from datetime import datetime, timezone\n",
    "import pandas as pd\n",
    "\n",
    "start_time = datetime(2023, 4, 1, tzinfo=timezone.utc).timestamp() * 1000  # Load one month in advance to do feature engineering\n",
    "end_time = datetime(2024, 2, 1, tzinfo=timezone.utc).timestamp() * 1000 - 1\n",
    "data_source = '/home/yite/crypto_data/binance/data'\n",
    "kline_iterator = ZipKLineIterator('BTCUSDT', start_time, end_time, data_source)\n",
    "df = kline_iterator.to_dataframe()\n",
    "df = df[[\"open\", \"high\", \"low\", \"close\", \"volume\", \"open_time\", \"close_time\"]]\n",
    "df['date'] = pd.to_datetime(df['open_time'], unit='ms')\n",
    "df.set_index('date', inplace=True)\n"
   ]
  },
  {
   "cell_type": "code",
   "execution_count": null,
   "id": "c78b139b-6b25-43ce-9d44-ec65889e5911",
   "metadata": {},
   "outputs": [],
   "source": []
  }
 ],
 "metadata": {
  "kernelspec": {
   "display_name": "Python 3 (ipykernel)",
   "language": "python",
   "name": "python3"
  },
  "language_info": {
   "codemirror_mode": {
    "name": "ipython",
    "version": 3
   },
   "file_extension": ".py",
   "mimetype": "text/x-python",
   "name": "python",
   "nbconvert_exporter": "python",
   "pygments_lexer": "ipython3",
   "version": "3.12.3"
  }
 },
 "nbformat": 4,
 "nbformat_minor": 5
}
