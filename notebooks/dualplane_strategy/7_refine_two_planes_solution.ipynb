{
 "cells": [
  {
   "cell_type": "markdown",
   "id": "eec11720-a1db-4d48-8c59-a1bbdbee443a",
   "metadata": {},
   "source": [
    "# Two hyperplane trading bot(by second)\n",
    "This section aim to enhance the result by refine the data granular, most exchange broadcast data in seconds,milliseconds, or realtime, which is appearent more informative than hourly data, also lead more challenge analysis and computational exhaustive."
   ]
  },
  {
   "cell_type": "code",
   "execution_count": 2,
   "id": "c7d382f6-5cce-4744-8ad8-009cc4aaa74c",
   "metadata": {},
   "outputs": [
    {
     "name": "stdout",
     "output_type": "stream",
     "text": [
      "Found existing installation: crypto-backtest 0.0.22\n",
      "Uninstalling crypto-backtest-0.0.22:\n",
      "  Successfully uninstalled crypto-backtest-0.0.22\n",
      "Collecting git+https://github.com/BullionBear/crypto-backtest.git\n",
      "  Cloning https://github.com/BullionBear/crypto-backtest.git to /tmp/pip-req-build-z1jrvjn3\n",
      "  Running command git clone --filter=blob:none --quiet https://github.com/BullionBear/crypto-backtest.git /tmp/pip-req-build-z1jrvjn3\n",
      "  Resolved https://github.com/BullionBear/crypto-backtest.git to commit 1f5c202e1322663689e79406d270665f4e4bbe22\n",
      "  Preparing metadata (setup.py) ... \u001b[?25ldone\n",
      "\u001b[?25hRequirement already satisfied: pydantic in /home/yite/BullionBear/crypto-backtest/.venv/lib/python3.10/site-packages (from crypto-backtest==0.1.0) (2.6.3)\n",
      "Requirement already satisfied: pydantic-settings in /home/yite/BullionBear/crypto-backtest/.venv/lib/python3.10/site-packages (from crypto-backtest==0.1.0) (2.2.1)\n",
      "Requirement already satisfied: python-dateutil in /home/yite/BullionBear/crypto-backtest/.venv/lib/python3.10/site-packages (from crypto-backtest==0.1.0) (2.9.0.post0)\n",
      "Requirement already satisfied: annotated-types>=0.4.0 in /home/yite/BullionBear/crypto-backtest/.venv/lib/python3.10/site-packages (from pydantic->crypto-backtest==0.1.0) (0.6.0)\n",
      "Requirement already satisfied: pydantic-core==2.16.3 in /home/yite/BullionBear/crypto-backtest/.venv/lib/python3.10/site-packages (from pydantic->crypto-backtest==0.1.0) (2.16.3)\n",
      "Requirement already satisfied: typing-extensions>=4.6.1 in /home/yite/BullionBear/crypto-backtest/.venv/lib/python3.10/site-packages (from pydantic->crypto-backtest==0.1.0) (4.10.0)\n",
      "Requirement already satisfied: python-dotenv>=0.21.0 in /home/yite/BullionBear/crypto-backtest/.venv/lib/python3.10/site-packages (from pydantic-settings->crypto-backtest==0.1.0) (1.0.1)\n",
      "Requirement already satisfied: six>=1.5 in /home/yite/BullionBear/crypto-backtest/.venv/lib/python3.10/site-packages (from python-dateutil->crypto-backtest==0.1.0) (1.16.0)\n",
      "Building wheels for collected packages: crypto-backtest\n",
      "  Building wheel for crypto-backtest (setup.py) ... \u001b[?25ldone\n",
      "\u001b[?25h  Created wheel for crypto-backtest: filename=crypto_backtest-0.1.0-py3-none-any.whl size=10351 sha256=59b0722ed890354fd1b98e07c15d19a86ff171c5b2d28ecb3ac2401c85b3055c\n",
      "  Stored in directory: /tmp/pip-ephem-wheel-cache-ga5ifvrg/wheels/14/d1/5f/193347d44b51670dd287000ac535cdb7a8fc3f84e426532382\n",
      "Successfully built crypto-backtest\n",
      "Installing collected packages: crypto-backtest\n",
      "Successfully installed crypto-backtest-0.1.0\n",
      "\n",
      "\u001b[1m[\u001b[0m\u001b[34;49mnotice\u001b[0m\u001b[1;39;49m]\u001b[0m\u001b[39;49m A new release of pip is available: \u001b[0m\u001b[31;49m23.2.1\u001b[0m\u001b[39;49m -> \u001b[0m\u001b[32;49m24.0\u001b[0m\n",
      "\u001b[1m[\u001b[0m\u001b[34;49mnotice\u001b[0m\u001b[1;39;49m]\u001b[0m\u001b[39;49m To update, run: \u001b[0m\u001b[32;49mpip install --upgrade pip\u001b[0m\n"
     ]
    }
   ],
   "source": [
    "# Run it when crypto-backtest is updated, and then restart the kernel\n",
    "!pip uninstall crypto-backtest -y\n",
    "!pip install git+https://github.com/BullionBear/crypto-backtest.git"
   ]
  },
  {
   "cell_type": "code",
   "execution_count": null,
   "id": "2bd86c33-9a0c-4e7d-a3a2-7e241c8cebed",
   "metadata": {},
   "outputs": [],
   "source": [
    "# The load hourly data from 2023-05-01 00:00:00 to 2023-10-30 23:59:59 because this peroid is diversified enough and we test from 2023-11-01 00:00:00 to 2024-2-28 23:59:59\n",
    "from backtest.components.core import ZipKLineIterator\n",
    "from backtest.components import KLineMarket\n",
    "\n",
    "from datetime import datetime, timezone\n",
    "import pandas as pd\n",
    "\n",
    "start_time = datetime(2023, 4, 1, tzinfo=timezone.utc).timestamp() * 1000  # Load one month in advance to do feature engineering\n",
    "end_time = datetime(2024, 2, 1, tzinfo=timezone.utc).timestamp() * 1000 - 1\n",
    "data_source = '/home/yite/crypto_data/binance/data'\n",
    "kline_iterator = ZipKLineIterator('BTCUSDT', start_time, end_time, data_source)\n",
    "df = kline_iterator.to_dataframe()\n",
    "df = df[[\"open\", \"high\", \"low\", \"close\", \"volume\", \"open_time\", \"close_time\"]]\n",
    "df['date'] = pd.to_datetime(df['open_time'], unit='ms')\n",
    "df.set_index('date', inplace=True)\n"
   ]
  }
 ],
 "metadata": {
  "kernelspec": {
   "display_name": "Python 3 (ipykernel)",
   "language": "python",
   "name": "python3"
  },
  "language_info": {
   "codemirror_mode": {
    "name": "ipython",
    "version": 3
   },
   "file_extension": ".py",
   "mimetype": "text/x-python",
   "name": "python",
   "nbconvert_exporter": "python",
   "pygments_lexer": "ipython3",
   "version": "3.10.12"
  }
 },
 "nbformat": 4,
 "nbformat_minor": 5
}
