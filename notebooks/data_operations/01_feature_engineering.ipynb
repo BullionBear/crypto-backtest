{
 "cells": [
  {
   "cell_type": "markdown",
   "id": "6fa69ccc-8bc9-41e6-a6e1-40b368e92113",
   "metadata": {},
   "source": [
    "# Feature Engineering\n",
    "The script is mainly operate the big file feature engineering, try to make the process as efficient as possible.\n"
   ]
  },
  {
   "cell_type": "code",
   "execution_count": null,
   "id": "20b9fb49-1727-4b76-a4fd-eb67839d2c17",
   "metadata": {},
   "outputs": [],
   "source": []
  }
 ],
 "metadata": {
  "kernelspec": {
   "display_name": "Python 3 (ipykernel)",
   "language": "python",
   "name": "python3"
  },
  "language_info": {
   "codemirror_mode": {
    "name": "ipython",
    "version": 3
   },
   "file_extension": ".py",
   "mimetype": "text/x-python",
   "name": "python",
   "nbconvert_exporter": "python",
   "pygments_lexer": "ipython3",
   "version": "3.10.12"
  }
 },
 "nbformat": 4,
 "nbformat_minor": 5
}
