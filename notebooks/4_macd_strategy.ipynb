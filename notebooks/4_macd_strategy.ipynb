{
 "cells": [
  {
   "cell_type": "markdown",
   "id": "fa0f9fd6-9f26-4f76-8a27-00754ea98912",
   "metadata": {},
   "source": [
    "# MACD\n",
    "This notebook use MACD strategy to backtest the performance"
   ]
  },
  {
   "cell_type": "code",
   "execution_count": 9,
   "id": "8dfd0fcc-1c1b-4b96-b824-e7842f2588f9",
   "metadata": {},
   "outputs": [
    {
     "name": "stdout",
     "output_type": "stream",
     "text": [
      "Found existing installation: crypto-backtest 0.0.16\n",
      "Uninstalling crypto-backtest-0.0.16:\n",
      "  Successfully uninstalled crypto-backtest-0.0.16\n",
      "Collecting git+https://github.com/BullionBear/crypto-backtest.git\n",
      "  Cloning https://github.com/BullionBear/crypto-backtest.git to /tmp/pip-req-build-5h7wwlhv\n",
      "  Running command git clone --filter=blob:none --quiet https://github.com/BullionBear/crypto-backtest.git /tmp/pip-req-build-5h7wwlhv\n",
      "  Resolved https://github.com/BullionBear/crypto-backtest.git to commit d3bf780d7a2acdac086d77eb8facc9cc3fb204df\n",
      "  Preparing metadata (setup.py) ... \u001b[?25ldone\n",
      "\u001b[?25hRequirement already satisfied: pydantic in /home/yite/BullionBear/crypto-backtest/.venv/lib/python3.10/site-packages (from crypto-backtest==0.0.17) (2.6.3)\n",
      "Requirement already satisfied: pydantic-settings in /home/yite/BullionBear/crypto-backtest/.venv/lib/python3.10/site-packages (from crypto-backtest==0.0.17) (2.2.1)\n",
      "Requirement already satisfied: python-dateutil in /home/yite/BullionBear/crypto-backtest/.venv/lib/python3.10/site-packages (from crypto-backtest==0.0.17) (2.9.0.post0)\n",
      "Requirement already satisfied: annotated-types>=0.4.0 in /home/yite/BullionBear/crypto-backtest/.venv/lib/python3.10/site-packages (from pydantic->crypto-backtest==0.0.17) (0.6.0)\n",
      "Requirement already satisfied: pydantic-core==2.16.3 in /home/yite/BullionBear/crypto-backtest/.venv/lib/python3.10/site-packages (from pydantic->crypto-backtest==0.0.17) (2.16.3)\n",
      "Requirement already satisfied: typing-extensions>=4.6.1 in /home/yite/BullionBear/crypto-backtest/.venv/lib/python3.10/site-packages (from pydantic->crypto-backtest==0.0.17) (4.10.0)\n",
      "Requirement already satisfied: python-dotenv>=0.21.0 in /home/yite/BullionBear/crypto-backtest/.venv/lib/python3.10/site-packages (from pydantic-settings->crypto-backtest==0.0.17) (1.0.1)\n",
      "Requirement already satisfied: six>=1.5 in /home/yite/BullionBear/crypto-backtest/.venv/lib/python3.10/site-packages (from python-dateutil->crypto-backtest==0.0.17) (1.16.0)\n",
      "Building wheels for collected packages: crypto-backtest\n",
      "  Building wheel for crypto-backtest (setup.py) ... \u001b[?25ldone\n",
      "\u001b[?25h  Created wheel for crypto-backtest: filename=crypto_backtest-0.0.17-py3-none-any.whl size=10169 sha256=fbc2d201298378c081dc72bfff5ce44f56148e3f039da5b9a0bdc117e2c5a6a8\n",
      "  Stored in directory: /tmp/pip-ephem-wheel-cache-rbz7vo1m/wheels/14/d1/5f/193347d44b51670dd287000ac535cdb7a8fc3f84e426532382\n",
      "Successfully built crypto-backtest\n",
      "Installing collected packages: crypto-backtest\n",
      "Successfully installed crypto-backtest-0.0.17\n",
      "\n",
      "\u001b[1m[\u001b[0m\u001b[34;49mnotice\u001b[0m\u001b[1;39;49m]\u001b[0m\u001b[39;49m A new release of pip is available: \u001b[0m\u001b[31;49m23.2.1\u001b[0m\u001b[39;49m -> \u001b[0m\u001b[32;49m24.0\u001b[0m\n",
      "\u001b[1m[\u001b[0m\u001b[34;49mnotice\u001b[0m\u001b[1;39;49m]\u001b[0m\u001b[39;49m To update, run: \u001b[0m\u001b[32;49mpip install --upgrade pip\u001b[0m\n"
     ]
    }
   ],
   "source": [
    "# Run it when crypto-backtest is updated, and then restart the kernel\n",
    "!pip uninstall crypto-backtest -y\n",
    "!pip install git+https://github.com/BullionBear/crypto-backtest.git"
   ]
  },
  {
   "cell_type": "code",
   "execution_count": 1,
   "id": "3c7d8982-90a8-418b-a9ed-eb0060a2817f",
   "metadata": {},
   "outputs": [
    {
     "data": {
      "text/plain": [
       "'develop_0.0.17+'"
      ]
     },
     "execution_count": 1,
     "metadata": {},
     "output_type": "execute_result"
    }
   ],
   "source": [
    "import backtest\n",
    "backtest.__version__"
   ]
  },
  {
   "cell_type": "code",
   "execution_count": 2,
   "id": "b1476e22-5242-4fa8-8f12-66ea84d17bce",
   "metadata": {},
   "outputs": [],
   "source": [
    "from backtest.components.core import ZipKLineIterator\n",
    "from backtest.components import KLineMarket\n",
    "\n",
    "from datetime import datetime, timezone\n",
    "\n",
    "start_time = datetime(2023, 7, 1, tzinfo=timezone.utc).timestamp() * 1000\n",
    "end_time = datetime(2023, 9, 1, tzinfo=timezone.utc).timestamp() * 1000\n",
    "data_source = '/home/yite/crypto_data/binance/data'\n",
    "kline_iterator = ZipKLineIterator('BTCUSDT', start_time, end_time, data_source)\n",
    "market = KLineMarket(kline_iterator)"
   ]
  },
  {
   "cell_type": "code",
   "execution_count": 3,
   "id": "779d9b0b-a844-44e2-9718-00071ef0f1a5",
   "metadata": {},
   "outputs": [
    {
     "ename": "TypeError",
     "evalue": "Argument 'real' has incorrect type (expected numpy.ndarray, got list)",
     "output_type": "error",
     "traceback": [
      "\u001b[0;31m---------------------------------------------------------------------------\u001b[0m",
      "\u001b[0;31mTypeError\u001b[0m                                 Traceback (most recent call last)",
      "Cell \u001b[0;32mIn[3], line 10\u001b[0m\n\u001b[1;32m      8\u001b[0m         fast_div\u001b[38;5;241m.\u001b[39mput(kline)\n\u001b[1;32m      9\u001b[0m         slow_div\u001b[38;5;241m.\u001b[39mput(kline)\n\u001b[0;32m---> 10\u001b[0m \u001b[38;5;28mprint\u001b[39m(\u001b[38;5;124mf\u001b[39m\u001b[38;5;124m\"\u001b[39m\u001b[38;5;124mfast_div = \u001b[39m\u001b[38;5;132;01m{\u001b[39;00m\u001b[43mfast_div\u001b[49m\u001b[38;5;241;43m.\u001b[39;49m\u001b[43mget\u001b[49m\u001b[43m(\u001b[49m\u001b[43m)\u001b[49m\u001b[38;5;132;01m}\u001b[39;00m\u001b[38;5;124m, slow_div = \u001b[39m\u001b[38;5;132;01m{\u001b[39;00mslow_div\u001b[38;5;241m.\u001b[39mget()\u001b[38;5;132;01m}\u001b[39;00m\u001b[38;5;124m\"\u001b[39m)\n",
      "File \u001b[0;32m~/BullionBear/crypto-backtest/.venv/lib/python3.10/site-packages/backtest/components/core/sma_filtration.py:14\u001b[0m, in \u001b[0;36mSMAFiltration.get\u001b[0;34m(self)\u001b[0m\n\u001b[1;32m     12\u001b[0m \u001b[38;5;28;01mdef\u001b[39;00m \u001b[38;5;21mget\u001b[39m(\u001b[38;5;28mself\u001b[39m):\n\u001b[1;32m     13\u001b[0m     close \u001b[38;5;241m=\u001b[39m [kline\u001b[38;5;241m.\u001b[39mclose \u001b[38;5;28;01mfor\u001b[39;00m kline \u001b[38;5;129;01min\u001b[39;00m \u001b[38;5;28mself\u001b[39m\u001b[38;5;241m.\u001b[39m_klines[\u001b[38;5;241m-\u001b[39m\u001b[38;5;28mself\u001b[39m\u001b[38;5;241m.\u001b[39mn:]]\n\u001b[0;32m---> 14\u001b[0m     \u001b[38;5;28;01mreturn\u001b[39;00m \u001b[43mtalib\u001b[49m\u001b[38;5;241;43m.\u001b[39;49m\u001b[43mSMA\u001b[49m\u001b[43m(\u001b[49m\u001b[43mclose\u001b[49m\u001b[43m,\u001b[49m\u001b[43m \u001b[49m\u001b[43mtimeperiod\u001b[49m\u001b[38;5;241;43m=\u001b[39;49m\u001b[38;5;28;43mself\u001b[39;49m\u001b[38;5;241;43m.\u001b[39;49m\u001b[43mn\u001b[49m\u001b[43m)\u001b[49m[\u001b[38;5;241m-\u001b[39m\u001b[38;5;241m1\u001b[39m]\n",
      "File \u001b[0;32m~/BullionBear/crypto-backtest/.venv/lib/python3.10/site-packages/talib/__init__.py:64\u001b[0m, in \u001b[0;36m_wrapper.<locals>.wrapper\u001b[0;34m(*args, **kwds)\u001b[0m\n\u001b[1;32m     61\u001b[0m     _args \u001b[38;5;241m=\u001b[39m args\n\u001b[1;32m     62\u001b[0m     _kwds \u001b[38;5;241m=\u001b[39m kwds\n\u001b[0;32m---> 64\u001b[0m result \u001b[38;5;241m=\u001b[39m \u001b[43mfunc\u001b[49m\u001b[43m(\u001b[49m\u001b[38;5;241;43m*\u001b[39;49m\u001b[43m_args\u001b[49m\u001b[43m,\u001b[49m\u001b[43m \u001b[49m\u001b[38;5;241;43m*\u001b[39;49m\u001b[38;5;241;43m*\u001b[39;49m\u001b[43m_kwds\u001b[49m\u001b[43m)\u001b[49m\n\u001b[1;32m     66\u001b[0m \u001b[38;5;66;03m# check to see if we got a streaming result\u001b[39;00m\n\u001b[1;32m     67\u001b[0m first_result \u001b[38;5;241m=\u001b[39m result[\u001b[38;5;241m0\u001b[39m] \u001b[38;5;28;01mif\u001b[39;00m \u001b[38;5;28misinstance\u001b[39m(result, \u001b[38;5;28mtuple\u001b[39m) \u001b[38;5;28;01melse\u001b[39;00m result\n",
      "\u001b[0;31mTypeError\u001b[0m: Argument 'real' has incorrect type (expected numpy.ndarray, got list)"
     ]
    }
   ],
   "source": [
    "from backtest.components.core import SMAFiltration\n",
    "\n",
    "fast_div = SMAFiltration(5)\n",
    "slow_div = SMAFiltration(10)\n",
    "for _ in range(10 + 1):\n",
    "    if market.is_kline():\n",
    "        kline = market.get_kline()\n",
    "        fast_div.put(kline)\n",
    "        slow_div.put(kline)\n",
    "print(f\"fast_div = {fast_div.get()}, slow_div = {slow_div.get()}\")"
   ]
  },
  {
   "cell_type": "code",
   "execution_count": null,
   "id": "03627ee5-9b02-4a3a-b358-5e08077d629e",
   "metadata": {},
   "outputs": [],
   "source": []
  }
 ],
 "metadata": {
  "kernelspec": {
   "display_name": "Python 3 (ipykernel)",
   "language": "python",
   "name": "python3"
  },
  "language_info": {
   "codemirror_mode": {
    "name": "ipython",
    "version": 3
   },
   "file_extension": ".py",
   "mimetype": "text/x-python",
   "name": "python",
   "nbconvert_exporter": "python",
   "pygments_lexer": "ipython3",
   "version": "3.10.12"
  }
 },
 "nbformat": 4,
 "nbformat_minor": 5
}
