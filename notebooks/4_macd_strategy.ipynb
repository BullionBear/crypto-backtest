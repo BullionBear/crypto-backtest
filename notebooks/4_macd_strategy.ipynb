{
 "cells": [
  {
   "cell_type": "markdown",
   "id": "fa0f9fd6-9f26-4f76-8a27-00754ea98912",
   "metadata": {},
   "source": [
    "# MACD\n",
    "This notebook use MACD strategy to backtest the performance"
   ]
  },
  {
   "cell_type": "code",
   "execution_count": 4,
   "id": "8dfd0fcc-1c1b-4b96-b824-e7842f2588f9",
   "metadata": {},
   "outputs": [
    {
     "name": "stdout",
     "output_type": "stream",
     "text": [
      "Found existing installation: crypto-backtest 0.0.15\n",
      "Uninstalling crypto-backtest-0.0.15:\n",
      "  Successfully uninstalled crypto-backtest-0.0.15\n",
      "Collecting git+https://github.com/BullionBear/crypto-backtest.git\n",
      "  Cloning https://github.com/BullionBear/crypto-backtest.git to /tmp/pip-req-build-h33mlhqp\n",
      "  Running command git clone --filter=blob:none --quiet https://github.com/BullionBear/crypto-backtest.git /tmp/pip-req-build-h33mlhqp\n",
      "  Resolved https://github.com/BullionBear/crypto-backtest.git to commit 23bbd3c677aa481bf2f0fda79ee3788f940fe492\n",
      "  Preparing metadata (setup.py) ... \u001b[?25ldone\n",
      "\u001b[?25hRequirement already satisfied: pydantic in /home/yite/BullionBear/crypto-backtest/.venv/lib/python3.10/site-packages (from crypto-backtest==0.0.16) (2.6.3)\n",
      "Requirement already satisfied: pydantic-settings in /home/yite/BullionBear/crypto-backtest/.venv/lib/python3.10/site-packages (from crypto-backtest==0.0.16) (2.2.1)\n",
      "Requirement already satisfied: python-dateutil in /home/yite/BullionBear/crypto-backtest/.venv/lib/python3.10/site-packages (from crypto-backtest==0.0.16) (2.9.0.post0)\n",
      "Requirement already satisfied: annotated-types>=0.4.0 in /home/yite/BullionBear/crypto-backtest/.venv/lib/python3.10/site-packages (from pydantic->crypto-backtest==0.0.16) (0.6.0)\n",
      "Requirement already satisfied: pydantic-core==2.16.3 in /home/yite/BullionBear/crypto-backtest/.venv/lib/python3.10/site-packages (from pydantic->crypto-backtest==0.0.16) (2.16.3)\n",
      "Requirement already satisfied: typing-extensions>=4.6.1 in /home/yite/BullionBear/crypto-backtest/.venv/lib/python3.10/site-packages (from pydantic->crypto-backtest==0.0.16) (4.10.0)\n",
      "Requirement already satisfied: python-dotenv>=0.21.0 in /home/yite/BullionBear/crypto-backtest/.venv/lib/python3.10/site-packages (from pydantic-settings->crypto-backtest==0.0.16) (1.0.1)\n",
      "Requirement already satisfied: six>=1.5 in /home/yite/BullionBear/crypto-backtest/.venv/lib/python3.10/site-packages (from python-dateutil->crypto-backtest==0.0.16) (1.16.0)\n",
      "Building wheels for collected packages: crypto-backtest\n",
      "  Building wheel for crypto-backtest (setup.py) ... \u001b[?25ldone\n",
      "\u001b[?25h  Created wheel for crypto-backtest: filename=crypto_backtest-0.0.16-py3-none-any.whl size=10171 sha256=89f78b0b67c2b1c9f7b50f29d1deea310505f0474ab85dc13a721177b4a8b129\n",
      "  Stored in directory: /tmp/pip-ephem-wheel-cache-00lq_gv_/wheels/14/d1/5f/193347d44b51670dd287000ac535cdb7a8fc3f84e426532382\n",
      "Successfully built crypto-backtest\n",
      "Installing collected packages: crypto-backtest\n",
      "Successfully installed crypto-backtest-0.0.16\n",
      "\n",
      "\u001b[1m[\u001b[0m\u001b[34;49mnotice\u001b[0m\u001b[1;39;49m]\u001b[0m\u001b[39;49m A new release of pip is available: \u001b[0m\u001b[31;49m23.2.1\u001b[0m\u001b[39;49m -> \u001b[0m\u001b[32;49m24.0\u001b[0m\n",
      "\u001b[1m[\u001b[0m\u001b[34;49mnotice\u001b[0m\u001b[1;39;49m]\u001b[0m\u001b[39;49m To update, run: \u001b[0m\u001b[32;49mpip install --upgrade pip\u001b[0m\n"
     ]
    }
   ],
   "source": [
    "# Run it when crypto-backtest is updated, and then restart the kernel\n",
    "!pip uninstall crypto-backtest -y\n",
    "!pip install git+https://github.com/BullionBear/crypto-backtest.git"
   ]
  },
  {
   "cell_type": "code",
   "execution_count": 5,
   "id": "3c7d8982-90a8-418b-a9ed-eb0060a2817f",
   "metadata": {},
   "outputs": [
    {
     "data": {
      "text/plain": [
       "'develop_0.0.13+'"
      ]
     },
     "execution_count": 5,
     "metadata": {},
     "output_type": "execute_result"
    }
   ],
   "source": [
    "import backtest\n",
    "backtest.__version__"
   ]
  },
  {
   "cell_type": "code",
   "execution_count": 7,
   "id": "b1476e22-5242-4fa8-8f12-66ea84d17bce",
   "metadata": {},
   "outputs": [],
   "source": [
    "from backtest.components.core import ZipKLineIterator\n",
    "from backtest.components import KLineMarket\n",
    "\n",
    "from datetime import datetime, timezone\n",
    "\n",
    "start_time = datetime(2023, 7, 1, tzinfo=timezone.utc).timestamp() * 1000\n",
    "end_time = datetime(2023, 9, 1, tzinfo=timezone.utc).timestamp() * 1000\n",
    "data_source = '/home/yite/crypto_data/binance/data'\n",
    "kline_iterator = ZipKLineIterator('BTCUSDT', start_time, end_time, data_source)\n",
    "market = KLineMarket(kline_iterator)"
   ]
  },
  {
   "cell_type": "code",
   "execution_count": null,
   "id": "779d9b0b-a844-44e2-9718-00071ef0f1a5",
   "metadata": {},
   "outputs": [],
   "source": [
    "from backtest.components.core import SMAFiltration\n",
    "\n",
    "fast_div = SMAFiltration(5)\n",
    "slow_div = SMAFiltration(10)\n",
    "for _ in range(10 + 1):\n",
    "    if market.is_kline():\n",
    "        kline = market.get_kline()\n",
    "        fast_div.put(kline)\n",
    "        slow_div.put(kline)\n",
    "print(\"fast_div\""
   ]
  }
 ],
 "metadata": {
  "kernelspec": {
   "display_name": "Python 3 (ipykernel)",
   "language": "python",
   "name": "python3"
  },
  "language_info": {
   "codemirror_mode": {
    "name": "ipython",
    "version": 3
   },
   "file_extension": ".py",
   "mimetype": "text/x-python",
   "name": "python",
   "nbconvert_exporter": "python",
   "pygments_lexer": "ipython3",
   "version": "3.10.12"
  }
 },
 "nbformat": 4,
 "nbformat_minor": 5
}
