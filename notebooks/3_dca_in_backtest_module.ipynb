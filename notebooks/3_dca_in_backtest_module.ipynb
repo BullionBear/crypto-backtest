{
 "cells": [
  {
   "cell_type": "markdown",
   "id": "48bc8f45-19bd-4ad3-ab3d-c62eff289b4f",
   "metadata": {},
   "source": [
    "# DCA in backtest\n",
    "Here to more simulate the trading, we use backtest module and implement a DCA strategy to verify it.\n",
    "The goodness of `class Market` is we only need to care about how to react with it.  This allow user simulate more complicate trading operation like\n",
    "sending order, cancel order,...etc"
   ]
  },
  {
   "cell_type": "code",
   "execution_count": 8,
   "id": "5c1df20c-028b-421f-ae28-8924e3fcdc72",
   "metadata": {},
   "outputs": [
    {
     "name": "stdout",
     "output_type": "stream",
     "text": [
      "Found existing installation: crypto-backtest 0.0.9\n",
      "Uninstalling crypto-backtest-0.0.9:\n",
      "  Successfully uninstalled crypto-backtest-0.0.9\n",
      "Collecting git+https://github.com/BullionBear/crypto-backtest.git\n",
      "  Cloning https://github.com/BullionBear/crypto-backtest.git to /tmp/pip-req-build-3qhvg2hk\n",
      "  Running command git clone --filter=blob:none --quiet https://github.com/BullionBear/crypto-backtest.git /tmp/pip-req-build-3qhvg2hk\n",
      "  Resolved https://github.com/BullionBear/crypto-backtest.git to commit a111f944dd0f5adf83cab52276362892a30399bd\n",
      "  Preparing metadata (setup.py) ... \u001b[?25ldone\n",
      "\u001b[?25hRequirement already satisfied: pydantic in /home/yite/BullionBear/crypto-backtest/.venv/lib/python3.10/site-packages (from crypto-backtest==0.0.10) (2.6.3)\n",
      "Requirement already satisfied: pydantic-settings in /home/yite/BullionBear/crypto-backtest/.venv/lib/python3.10/site-packages (from crypto-backtest==0.0.10) (2.2.1)\n",
      "Requirement already satisfied: python-dateutil in /home/yite/BullionBear/crypto-backtest/.venv/lib/python3.10/site-packages (from crypto-backtest==0.0.10) (2.9.0.post0)\n",
      "Requirement already satisfied: annotated-types>=0.4.0 in /home/yite/BullionBear/crypto-backtest/.venv/lib/python3.10/site-packages (from pydantic->crypto-backtest==0.0.10) (0.6.0)\n",
      "Requirement already satisfied: pydantic-core==2.16.3 in /home/yite/BullionBear/crypto-backtest/.venv/lib/python3.10/site-packages (from pydantic->crypto-backtest==0.0.10) (2.16.3)\n",
      "Requirement already satisfied: typing-extensions>=4.6.1 in /home/yite/BullionBear/crypto-backtest/.venv/lib/python3.10/site-packages (from pydantic->crypto-backtest==0.0.10) (4.10.0)\n",
      "Requirement already satisfied: python-dotenv>=0.21.0 in /home/yite/BullionBear/crypto-backtest/.venv/lib/python3.10/site-packages (from pydantic-settings->crypto-backtest==0.0.10) (1.0.1)\n",
      "Requirement already satisfied: six>=1.5 in /home/yite/BullionBear/crypto-backtest/.venv/lib/python3.10/site-packages (from python-dateutil->crypto-backtest==0.0.10) (1.16.0)\n",
      "Building wheels for collected packages: crypto-backtest\n",
      "  Building wheel for crypto-backtest (setup.py) ... \u001b[?25ldone\n",
      "\u001b[?25h  Created wheel for crypto-backtest: filename=crypto_backtest-0.0.10-py3-none-any.whl size=9450 sha256=44bc86ca748db9914d1c05560cdba76b7badf15f1f02c1f1ad0a85693e75637f\n",
      "  Stored in directory: /tmp/pip-ephem-wheel-cache-er3ldwfd/wheels/14/d1/5f/193347d44b51670dd287000ac535cdb7a8fc3f84e426532382\n",
      "Successfully built crypto-backtest\n",
      "Installing collected packages: crypto-backtest\n",
      "Successfully installed crypto-backtest-0.0.10\n",
      "\n",
      "\u001b[1m[\u001b[0m\u001b[34;49mnotice\u001b[0m\u001b[1;39;49m]\u001b[0m\u001b[39;49m A new release of pip is available: \u001b[0m\u001b[31;49m23.2.1\u001b[0m\u001b[39;49m -> \u001b[0m\u001b[32;49m24.0\u001b[0m\n",
      "\u001b[1m[\u001b[0m\u001b[34;49mnotice\u001b[0m\u001b[1;39;49m]\u001b[0m\u001b[39;49m To update, run: \u001b[0m\u001b[32;49mpip install --upgrade pip\u001b[0m\n"
     ]
    }
   ],
   "source": [
    "# Run it when crypto-backtest is updated, and then restart the kernel\n",
    "!pip uninstall crypto-backtest -y\n",
    "!pip install git+https://github.com/BullionBear/crypto-backtest.git"
   ]
  },
  {
   "cell_type": "code",
   "execution_count": 1,
   "id": "1a8a53f0-8e7f-4d4b-bacd-67d37a297291",
   "metadata": {},
   "outputs": [
    {
     "data": {
      "text/plain": [
       "'develop_0.0.10+'"
      ]
     },
     "execution_count": 1,
     "metadata": {},
     "output_type": "execute_result"
    }
   ],
   "source": [
    "import backtest\n",
    "backtest.__version__"
   ]
  },
  {
   "cell_type": "code",
   "execution_count": 2,
   "id": "db2ef6ca-63e2-44a2-a862-85857f84906e",
   "metadata": {},
   "outputs": [],
   "source": [
    "from backtest.components.core import KLineIteratorFromFileSystem\n",
    "from backtest.components import KLineMarket\n",
    "\n",
    "from datetime import datetime, timezone\n",
    "\n",
    "start_time = datetime(2023, 3, 8, tzinfo=timezone.utc).timestamp() * 1000\n",
    "end_time = datetime(2023, 4, 8, tzinfo=timezone.utc).timestamp() * 1000\n",
    "data_source = '/home/yite/crypto_data/binance/data'\n",
    "kline_iterator = KLineIteratorFromFileSystem('BTCUSDT', start_time, end_time, data_source)\n",
    "market = KLineMarket(kline_iterator)"
   ]
  },
  {
   "cell_type": "code",
   "execution_count": 3,
   "id": "1919707c-fdec-46cd-bde4-a222f071342f",
   "metadata": {},
   "outputs": [
    {
     "data": {
      "text/plain": [
       "1678237199999"
      ]
     },
     "execution_count": 3,
     "metadata": {},
     "output_type": "execute_result"
    }
   ],
   "source": [
    "market.get_ts()"
   ]
  },
  {
   "cell_type": "code",
   "execution_count": 4,
   "id": "91069592-6ab2-4cd9-8d84-cf880c88762d",
   "metadata": {},
   "outputs": [
    {
     "data": {
      "text/plain": [
       "True"
      ]
     },
     "execution_count": 4,
     "metadata": {},
     "output_type": "execute_result"
    }
   ],
   "source": [
    "market.next()"
   ]
  },
  {
   "cell_type": "code",
   "execution_count": 9,
   "id": "de9b8769-a931-483a-b670-75a9c28925ba",
   "metadata": {},
   "outputs": [],
   "source": [
    "from backtest.models import MarketOrder\n",
    "\n",
    "total_usdt = 1_000_000\n",
    "invest_usdt = 30_000\n",
    "\n",
    "while True:\n",
    "    klines = []\n",
    "    while market.is_kline():\n",
    "        klines.append(market.get_kline())\n",
    "    for kline in klines:\n",
    "        dt = datetime.fromtimestamp(kline.close_time / 1000)\n",
    "        price = kline.close\n",
    "        amount = price / invest_usdt\n",
    "        if dt.hour == 0:\n",
    "            market_order = MarketOrder(\n",
    "                timestamp=kline.close_time, \n",
    "                base='BTC', \n",
    "                quote='USDT', \n",
    "                side='BUY', \n",
    "                amount=amount\n",
    "            )\n",
    "            market.send_market(market_order)\n",
    "    if not market.next():\n",
    "        break\n",
    "    "
   ]
  },
  {
   "cell_type": "code",
   "execution_count": 11,
   "id": "c7c56c13-6291-4169-ad4f-967a9f5adad8",
   "metadata": {},
   "outputs": [],
   "source": [
    "while market.is_trade():\n",
    "    trade = market.get_trade()\n",
    "    print(trade)"
   ]
  },
  {
   "cell_type": "code",
   "execution_count": 5,
   "id": "f27e51d6-bcb9-4cce-b83d-31429a7d9096",
   "metadata": {},
   "outputs": [
    {
     "data": {
      "text/plain": [
       "1678240799999"
      ]
     },
     "execution_count": 5,
     "metadata": {},
     "output_type": "execute_result"
    }
   ],
   "source": [
    "market.get_ts()"
   ]
  },
  {
   "cell_type": "code",
   "execution_count": 8,
   "id": "1fe54bb2-5a46-4892-a9cb-e7cff7f862e0",
   "metadata": {},
   "outputs": [],
   "source": [
    "market_order = MarketOrder(\n",
    "    timestamp=1640995200,  # Example timestamp\n",
    "    base=\"BTC\",\n",
    "    quote=\"USD\",\n",
    "    side=\"buy\",\n",
    "    amount=1.0\n",
    "    # order_id is optional since it defaults to uuid4\n",
    ")"
   ]
  },
  {
   "cell_type": "code",
   "execution_count": null,
   "id": "f338b085-c853-4a60-b3c0-f96ba4bfa8c6",
   "metadata": {},
   "outputs": [],
   "source": []
  }
 ],
 "metadata": {
  "kernelspec": {
   "display_name": "Python 3 (ipykernel)",
   "language": "python",
   "name": "python3"
  },
  "language_info": {
   "codemirror_mode": {
    "name": "ipython",
    "version": 3
   },
   "file_extension": ".py",
   "mimetype": "text/x-python",
   "name": "python",
   "nbconvert_exporter": "python",
   "pygments_lexer": "ipython3",
   "version": "3.10.12"
  }
 },
 "nbformat": 4,
 "nbformat_minor": 5
}
