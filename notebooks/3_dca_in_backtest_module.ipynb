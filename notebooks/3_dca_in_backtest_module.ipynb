{
 "cells": [
  {
   "cell_type": "markdown",
   "id": "48bc8f45-19bd-4ad3-ab3d-c62eff289b4f",
   "metadata": {},
   "source": [
    "# DCA in backtest\n",
    "Here to more simulate the trading, we use backtest module and implement a DCA strategy to verify it.\n",
    "The goodness of `class Market` is we only need to care about how to react with it.  This allow user simulate more complicate trading operation like\n",
    "sending order, cancel order,...etc"
   ]
  },
  {
   "cell_type": "code",
   "execution_count": 3,
   "id": "5c1df20c-028b-421f-ae28-8924e3fcdc72",
   "metadata": {},
   "outputs": [
    {
     "name": "stdout",
     "output_type": "stream",
     "text": [
      "Found existing installation: crypto-backtest 0.0.5\n",
      "Uninstalling crypto-backtest-0.0.5:\n",
      "  Successfully uninstalled crypto-backtest-0.0.5\n",
      "Collecting git+https://github.com/BullionBear/crypto-backtest.git\n",
      "  Cloning https://github.com/BullionBear/crypto-backtest.git to /tmp/pip-req-build-rxc2n6dk\n",
      "  Running command git clone --filter=blob:none --quiet https://github.com/BullionBear/crypto-backtest.git /tmp/pip-req-build-rxc2n6dk\n",
      "  Resolved https://github.com/BullionBear/crypto-backtest.git to commit 2f5d3998f72eeb831eb8da0d978971b167447102\n",
      "  Preparing metadata (setup.py) ... \u001b[?25ldone\n",
      "\u001b[?25hRequirement already satisfied: pydantic in /home/yite/BullionBear/crypto-backtest/.venv/lib/python3.10/site-packages (from crypto-backtest==0.0.6) (2.6.3)\n",
      "Requirement already satisfied: pydantic-settings in /home/yite/BullionBear/crypto-backtest/.venv/lib/python3.10/site-packages (from crypto-backtest==0.0.6) (2.2.1)\n",
      "Requirement already satisfied: python-dateutil in /home/yite/BullionBear/crypto-backtest/.venv/lib/python3.10/site-packages (from crypto-backtest==0.0.6) (2.9.0.post0)\n",
      "Requirement already satisfied: annotated-types>=0.4.0 in /home/yite/BullionBear/crypto-backtest/.venv/lib/python3.10/site-packages (from pydantic->crypto-backtest==0.0.6) (0.6.0)\n",
      "Requirement already satisfied: pydantic-core==2.16.3 in /home/yite/BullionBear/crypto-backtest/.venv/lib/python3.10/site-packages (from pydantic->crypto-backtest==0.0.6) (2.16.3)\n",
      "Requirement already satisfied: typing-extensions>=4.6.1 in /home/yite/BullionBear/crypto-backtest/.venv/lib/python3.10/site-packages (from pydantic->crypto-backtest==0.0.6) (4.10.0)\n",
      "Requirement already satisfied: python-dotenv>=0.21.0 in /home/yite/BullionBear/crypto-backtest/.venv/lib/python3.10/site-packages (from pydantic-settings->crypto-backtest==0.0.6) (1.0.1)\n",
      "Requirement already satisfied: six>=1.5 in /home/yite/BullionBear/crypto-backtest/.venv/lib/python3.10/site-packages (from python-dateutil->crypto-backtest==0.0.6) (1.16.0)\n",
      "Building wheels for collected packages: crypto-backtest\n",
      "  Building wheel for crypto-backtest (setup.py) ... \u001b[?25ldone\n",
      "\u001b[?25h  Created wheel for crypto-backtest: filename=crypto_backtest-0.0.6-py3-none-any.whl size=9332 sha256=297a3348a9b03236eaec5feb4eeffacab644e8407f73b20514fdc195f533b32a\n",
      "  Stored in directory: /tmp/pip-ephem-wheel-cache-slvdz2vi/wheels/14/d1/5f/193347d44b51670dd287000ac535cdb7a8fc3f84e426532382\n",
      "Successfully built crypto-backtest\n",
      "Installing collected packages: crypto-backtest\n",
      "Successfully installed crypto-backtest-0.0.6\n",
      "\n",
      "\u001b[1m[\u001b[0m\u001b[34;49mnotice\u001b[0m\u001b[1;39;49m]\u001b[0m\u001b[39;49m A new release of pip is available: \u001b[0m\u001b[31;49m23.2.1\u001b[0m\u001b[39;49m -> \u001b[0m\u001b[32;49m24.0\u001b[0m\n",
      "\u001b[1m[\u001b[0m\u001b[34;49mnotice\u001b[0m\u001b[1;39;49m]\u001b[0m\u001b[39;49m To update, run: \u001b[0m\u001b[32;49mpip install --upgrade pip\u001b[0m\n"
     ]
    }
   ],
   "source": [
    "# Run it when crypto-backtest is updated, and then restart the kernel\n",
    "!pip uninstall crypto-backtest -y\n",
    "!pip install git+https://github.com/BullionBear/crypto-backtest.git"
   ]
  },
  {
   "cell_type": "code",
   "execution_count": 1,
   "id": "1a8a53f0-8e7f-4d4b-bacd-67d37a297291",
   "metadata": {},
   "outputs": [
    {
     "data": {
      "text/plain": [
       "'develop'"
      ]
     },
     "execution_count": 1,
     "metadata": {},
     "output_type": "execute_result"
    }
   ],
   "source": [
    "import backtest\n",
    "backtest.__version__"
   ]
  },
  {
   "cell_type": "code",
   "execution_count": 4,
   "id": "db2ef6ca-63e2-44a2-a862-85857f84906e",
   "metadata": {},
   "outputs": [],
   "source": [
    "from backtest.components.core import KLineIteratorFromFileSystem\n",
    "from backtest.components import KLineMarket\n",
    "\n",
    "from datetime import datetime, timezone\n",
    "\n",
    "start_time = datetime(2023, 3, 8, tzinfo=timezone.utc).timestamp() * 1000\n",
    "end_time = datetime(2023, 4, 8, tzinfo=timezone.utc).timestamp() * 1000\n",
    "data_source = '/home/yite/crypto_data/binance/data'\n",
    "kline_iterator = KLineIteratorFromFileSystem('BTCUSDT', start_time, end_time, data_source)\n",
    "market = KLineMarket(kline_iterator)"
   ]
  },
  {
   "cell_type": "code",
   "execution_count": 5,
   "id": "1919707c-fdec-46cd-bde4-a222f071342f",
   "metadata": {},
   "outputs": [
    {
     "data": {
      "text/plain": [
       "22245.86"
      ]
     },
     "execution_count": 5,
     "metadata": {},
     "output_type": "execute_result"
    }
   ],
   "source": [
    "market.get_ts()"
   ]
  },
  {
   "cell_type": "code",
   "execution_count": null,
   "id": "de9b8769-a931-483a-b670-75a9c28925ba",
   "metadata": {},
   "outputs": [],
   "source": []
  }
 ],
 "metadata": {
  "kernelspec": {
   "display_name": "Python 3 (ipykernel)",
   "language": "python",
   "name": "python3"
  },
  "language_info": {
   "codemirror_mode": {
    "name": "ipython",
    "version": 3
   },
   "file_extension": ".py",
   "mimetype": "text/x-python",
   "name": "python",
   "nbconvert_exporter": "python",
   "pygments_lexer": "ipython3",
   "version": "3.10.12"
  }
 },
 "nbformat": 4,
 "nbformat_minor": 5
}
