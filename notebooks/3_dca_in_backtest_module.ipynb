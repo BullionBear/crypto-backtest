{
 "cells": [
  {
   "cell_type": "markdown",
   "id": "48bc8f45-19bd-4ad3-ab3d-c62eff289b4f",
   "metadata": {},
   "source": [
    "# DCA in backtest\n",
    "Here to more simulate the trading, we use backtest module and implement a DCA strategy to verify it.\n",
    "The goodness of `class Market` is we only need to care about how to react with it.  This allow user simulate more complicate trading operation like\n",
    "sending order, cancel order,...etc"
   ]
  },
  {
   "cell_type": "code",
   "execution_count": 6,
   "id": "5c1df20c-028b-421f-ae28-8924e3fcdc72",
   "metadata": {},
   "outputs": [
    {
     "name": "stdout",
     "output_type": "stream",
     "text": [
      "Found existing installation: crypto-backtest 0.0.7\n",
      "Uninstalling crypto-backtest-0.0.7:\n",
      "  Successfully uninstalled crypto-backtest-0.0.7\n",
      "Collecting git+https://github.com/BullionBear/crypto-backtest.git\n",
      "  Cloning https://github.com/BullionBear/crypto-backtest.git to /tmp/pip-req-build-8jf_f73o\n",
      "  Running command git clone --filter=blob:none --quiet https://github.com/BullionBear/crypto-backtest.git /tmp/pip-req-build-8jf_f73o\n",
      "  Resolved https://github.com/BullionBear/crypto-backtest.git to commit b73cc554cab8271a40ebcf96e860c619b563e6b2\n",
      "  Preparing metadata (setup.py) ... \u001b[?25ldone\n",
      "\u001b[?25hRequirement already satisfied: pydantic in /home/yite/BullionBear/crypto-backtest/.venv/lib/python3.10/site-packages (from crypto-backtest==0.0.8) (2.6.3)\n",
      "Requirement already satisfied: pydantic-settings in /home/yite/BullionBear/crypto-backtest/.venv/lib/python3.10/site-packages (from crypto-backtest==0.0.8) (2.2.1)\n",
      "Requirement already satisfied: python-dateutil in /home/yite/BullionBear/crypto-backtest/.venv/lib/python3.10/site-packages (from crypto-backtest==0.0.8) (2.9.0.post0)\n",
      "Requirement already satisfied: annotated-types>=0.4.0 in /home/yite/BullionBear/crypto-backtest/.venv/lib/python3.10/site-packages (from pydantic->crypto-backtest==0.0.8) (0.6.0)\n",
      "Requirement already satisfied: pydantic-core==2.16.3 in /home/yite/BullionBear/crypto-backtest/.venv/lib/python3.10/site-packages (from pydantic->crypto-backtest==0.0.8) (2.16.3)\n",
      "Requirement already satisfied: typing-extensions>=4.6.1 in /home/yite/BullionBear/crypto-backtest/.venv/lib/python3.10/site-packages (from pydantic->crypto-backtest==0.0.8) (4.10.0)\n",
      "Requirement already satisfied: python-dotenv>=0.21.0 in /home/yite/BullionBear/crypto-backtest/.venv/lib/python3.10/site-packages (from pydantic-settings->crypto-backtest==0.0.8) (1.0.1)\n",
      "Requirement already satisfied: six>=1.5 in /home/yite/BullionBear/crypto-backtest/.venv/lib/python3.10/site-packages (from python-dateutil->crypto-backtest==0.0.8) (1.16.0)\n",
      "Building wheels for collected packages: crypto-backtest\n",
      "  Building wheel for crypto-backtest (setup.py) ... \u001b[?25ldone\n",
      "\u001b[?25h  Created wheel for crypto-backtest: filename=crypto_backtest-0.0.8-py3-none-any.whl size=9413 sha256=c12a2c2cd742973453e994bb28a1e850431550cd7b0dd8e2bf5a4e666baf3a68\n",
      "  Stored in directory: /tmp/pip-ephem-wheel-cache-kwxy6cwh/wheels/14/d1/5f/193347d44b51670dd287000ac535cdb7a8fc3f84e426532382\n",
      "Successfully built crypto-backtest\n",
      "Installing collected packages: crypto-backtest\n",
      "Successfully installed crypto-backtest-0.0.8\n",
      "\n",
      "\u001b[1m[\u001b[0m\u001b[34;49mnotice\u001b[0m\u001b[1;39;49m]\u001b[0m\u001b[39;49m A new release of pip is available: \u001b[0m\u001b[31;49m23.2.1\u001b[0m\u001b[39;49m -> \u001b[0m\u001b[32;49m24.0\u001b[0m\n",
      "\u001b[1m[\u001b[0m\u001b[34;49mnotice\u001b[0m\u001b[1;39;49m]\u001b[0m\u001b[39;49m To update, run: \u001b[0m\u001b[32;49mpip install --upgrade pip\u001b[0m\n"
     ]
    }
   ],
   "source": [
    "# Run it when crypto-backtest is updated, and then restart the kernel\n",
    "!pip uninstall crypto-backtest -y\n",
    "!pip install git+https://github.com/BullionBear/crypto-backtest.git"
   ]
  },
  {
   "cell_type": "code",
   "execution_count": 1,
   "id": "1a8a53f0-8e7f-4d4b-bacd-67d37a297291",
   "metadata": {},
   "outputs": [
    {
     "data": {
      "text/plain": [
       "'develop_0.0.7+'"
      ]
     },
     "execution_count": 1,
     "metadata": {},
     "output_type": "execute_result"
    }
   ],
   "source": [
    "import backtest\n",
    "backtest.__version__"
   ]
  },
  {
   "cell_type": "code",
   "execution_count": 2,
   "id": "db2ef6ca-63e2-44a2-a862-85857f84906e",
   "metadata": {},
   "outputs": [],
   "source": [
    "from backtest.components.core import KLineIteratorFromFileSystem\n",
    "from backtest.components import KLineMarket\n",
    "\n",
    "from datetime import datetime, timezone\n",
    "\n",
    "start_time = datetime(2023, 3, 8, tzinfo=timezone.utc).timestamp() * 1000\n",
    "end_time = datetime(2023, 4, 8, tzinfo=timezone.utc).timestamp() * 1000\n",
    "data_source = '/home/yite/crypto_data/binance/data'\n",
    "kline_iterator = KLineIteratorFromFileSystem('BTCUSDT', start_time, end_time, data_source)\n",
    "market = KLineMarket(kline_iterator)"
   ]
  },
  {
   "cell_type": "code",
   "execution_count": 3,
   "id": "1919707c-fdec-46cd-bde4-a222f071342f",
   "metadata": {},
   "outputs": [
    {
     "data": {
      "text/plain": [
       "1678237199999"
      ]
     },
     "execution_count": 3,
     "metadata": {},
     "output_type": "execute_result"
    }
   ],
   "source": [
    "market.get_ts()"
   ]
  },
  {
   "cell_type": "code",
   "execution_count": 6,
   "id": "de9b8769-a931-483a-b670-75a9c28925ba",
   "metadata": {},
   "outputs": [],
   "source": [
    "from backtest.virtual_components import Strategy\n",
    "from backtest.models import KLine"
   ]
  },
  {
   "cell_type": "code",
   "execution_count": null,
   "id": "c7c56c13-6291-4169-ad4f-967a9f5adad8",
   "metadata": {},
   "outputs": [],
   "source": [
    "class DCAStrategy(Strategy):\n",
    "    def __init__(self):\n",
    "        self.wallet = {\"USDT\": 10_000_000, \"BTC\": 0}\n",
    "\n",
    "    def get(self, kline: KLine):\n",
    "        dt = datetime.fromtimestamp(kline.close_time / 1000)\n",
    "        if df.hour == 0:\n",
    "            \n",
    "        \n",
    "    "
   ]
  }
 ],
 "metadata": {
  "kernelspec": {
   "display_name": "Python 3 (ipykernel)",
   "language": "python",
   "name": "python3"
  },
  "language_info": {
   "codemirror_mode": {
    "name": "ipython",
    "version": 3
   },
   "file_extension": ".py",
   "mimetype": "text/x-python",
   "name": "python",
   "nbconvert_exporter": "python",
   "pygments_lexer": "ipython3",
   "version": "3.10.12"
  }
 },
 "nbformat": 4,
 "nbformat_minor": 5
}
