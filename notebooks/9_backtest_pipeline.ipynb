{
 "cells": [
  {
   "cell_type": "markdown",
   "id": "b96060ba-0dcd-44de-ac0b-c14e82e5b390",
   "metadata": {},
   "source": [
    "# Backtest pipeline\n",
    "## Prerequisite\n",
    "- Select a trading pair, e.g. BTCUSDT\n",
    "- Select a grandular, e.g. 1s, 1m, 1h, ...\n",
    "- Select a total period [0, T], usually use all\n",
    "- Select a test length, consider 2w, 1m, 3m, and 6m, if there needs a training set, carry the necessary period as training set\n",
    "- Sample n periods from given configuration (n = 30, fix seed)\n",
    "\n",
    "## Apply Strategy\n",
    "- simple spot / simple perp / others\n",
    "- Applying strategy in every loops\n",
    "- Output statistics:\n",
    "  - annualized return(std of annualized return)\n",
    "  - annualized volatility(std of annualized volatility)\n",
    "  - annualized sharpe ratio(std of annualized volatility)\n",
    "  - annualized volatility(std of annualized volatility)\n",
    "  - same statistics of holding BTCUSDT, ETHUSDT\n",
    "   "
   ]
  },
  {
   "cell_type": "code",
   "execution_count": 1,
   "id": "507d9c1a-7045-42d4-b24a-37afc66e4865",
   "metadata": {},
   "outputs": [
    {
     "data": {
      "text/plain": [
       "'develop_0.0.17+'"
      ]
     },
     "execution_count": 1,
     "metadata": {},
     "output_type": "execute_result"
    }
   ],
   "source": [
    "import backtest\n",
    "backtest.__version__"
   ]
  },
  {
   "cell_type": "code",
   "execution_count": null,
   "id": "64c9144b-5219-4e89-b9e1-609cd9608b05",
   "metadata": {},
   "outputs": [],
   "source": []
  }
 ],
 "metadata": {
  "kernelspec": {
   "display_name": "Python 3 (ipykernel)",
   "language": "python",
   "name": "python3"
  },
  "language_info": {
   "codemirror_mode": {
    "name": "ipython",
    "version": 3
   },
   "file_extension": ".py",
   "mimetype": "text/x-python",
   "name": "python",
   "nbconvert_exporter": "python",
   "pygments_lexer": "ipython3",
   "version": "3.10.12"
  }
 },
 "nbformat": 4,
 "nbformat_minor": 5
}
