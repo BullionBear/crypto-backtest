{
 "cells": [
  {
   "cell_type": "markdown",
   "id": "22784ba7-aa06-42f8-95dd-f4183a6fb2de",
   "metadata": {},
   "source": [
    "# Order Driven Reward\n",
    "The idea continue from the contour approach, adding more reinforcement learning element like rewards.\n",
    "Reinforcement learning contains three components:\n",
    "- State: vector extracted from market history, $S_t=[s_1, s_2,..., s_p]$\n",
    "- Action: [Buy, Sell]\n",
    "- Reward: There are several definitions of rewards, it's the essential part of this notebook"
   ]
  },
  {
   "cell_type": "code",
   "execution_count": 5,
   "id": "0d92bc31-e24e-4492-bdd3-b0cba5e99892",
   "metadata": {},
   "outputs": [
    {
     "name": "stdout",
     "output_type": "stream",
     "text": [
      "Found existing installation: crypto-backtest 0.1.2\n",
      "Uninstalling crypto-backtest-0.1.2:\n",
      "  Successfully uninstalled crypto-backtest-0.1.2\n",
      "Collecting git+https://github.com/BullionBear/crypto-backtest.git\n",
      "  Cloning https://github.com/BullionBear/crypto-backtest.git to /tmp/pip-req-build-69tu6q_l\n",
      "  Running command git clone --filter=blob:none --quiet https://github.com/BullionBear/crypto-backtest.git /tmp/pip-req-build-69tu6q_l\n",
      "  Resolved https://github.com/BullionBear/crypto-backtest.git to commit c88e2b9e9bb881b1991a367735c5c8e36bc7dc0c\n",
      "  Preparing metadata (setup.py) ... \u001b[?25ldone\n",
      "\u001b[?25hRequirement already satisfied: pydantic in /home/yite/BullionBear/crypto-backtest/.venv/lib/python3.10/site-packages (from crypto-backtest==0.1.3) (2.6.3)\n",
      "Requirement already satisfied: pydantic-settings in /home/yite/BullionBear/crypto-backtest/.venv/lib/python3.10/site-packages (from crypto-backtest==0.1.3) (2.2.1)\n",
      "Requirement already satisfied: python-dateutil in /home/yite/BullionBear/crypto-backtest/.venv/lib/python3.10/site-packages (from crypto-backtest==0.1.3) (2.9.0.post0)\n",
      "Requirement already satisfied: annotated-types>=0.4.0 in /home/yite/BullionBear/crypto-backtest/.venv/lib/python3.10/site-packages (from pydantic->crypto-backtest==0.1.3) (0.6.0)\n",
      "Requirement already satisfied: pydantic-core==2.16.3 in /home/yite/BullionBear/crypto-backtest/.venv/lib/python3.10/site-packages (from pydantic->crypto-backtest==0.1.3) (2.16.3)\n",
      "Requirement already satisfied: typing-extensions>=4.6.1 in /home/yite/BullionBear/crypto-backtest/.venv/lib/python3.10/site-packages (from pydantic->crypto-backtest==0.1.3) (4.10.0)\n",
      "Requirement already satisfied: python-dotenv>=0.21.0 in /home/yite/BullionBear/crypto-backtest/.venv/lib/python3.10/site-packages (from pydantic-settings->crypto-backtest==0.1.3) (1.0.1)\n",
      "Requirement already satisfied: six>=1.5 in /home/yite/BullionBear/crypto-backtest/.venv/lib/python3.10/site-packages (from python-dateutil->crypto-backtest==0.1.3) (1.16.0)\n",
      "Building wheels for collected packages: crypto-backtest\n",
      "  Building wheel for crypto-backtest (setup.py) ... \u001b[?25ldone\n",
      "\u001b[?25h  Created wheel for crypto-backtest: filename=crypto_backtest-0.1.3-py3-none-any.whl size=11581 sha256=19f6d2110534c33e7f05710b40c8547ca97f2c744f8ecfcbd8b8f1ed1c794d08\n",
      "  Stored in directory: /tmp/pip-ephem-wheel-cache-t54zlivj/wheels/14/d1/5f/193347d44b51670dd287000ac535cdb7a8fc3f84e426532382\n",
      "Successfully built crypto-backtest\n",
      "Installing collected packages: crypto-backtest\n",
      "Successfully installed crypto-backtest-0.1.3\n",
      "\n",
      "\u001b[1m[\u001b[0m\u001b[34;49mnotice\u001b[0m\u001b[1;39;49m]\u001b[0m\u001b[39;49m A new release of pip is available: \u001b[0m\u001b[31;49m23.2.1\u001b[0m\u001b[39;49m -> \u001b[0m\u001b[32;49m24.0\u001b[0m\n",
      "\u001b[1m[\u001b[0m\u001b[34;49mnotice\u001b[0m\u001b[1;39;49m]\u001b[0m\u001b[39;49m To update, run: \u001b[0m\u001b[32;49mpip install --upgrade pip\u001b[0m\n"
     ]
    }
   ],
   "source": [
    "# Run it when crypto-backtest is updated, and then restart the kernel\n",
    "!pip uninstall crypto-backtest -y\n",
    "!pip install git+https://github.com/BullionBear/crypto-backtest.git"
   ]
  },
  {
   "cell_type": "code",
   "execution_count": 1,
   "id": "c55d0f32-42cf-423b-9099-74c364666a7d",
   "metadata": {},
   "outputs": [
    {
     "data": {
      "text/plain": [
       "426"
      ]
     },
     "execution_count": 1,
     "metadata": {},
     "output_type": "execute_result"
    }
   ],
   "source": [
    "import gc\n",
    "gc.collect()"
   ]
  },
  {
   "cell_type": "code",
   "execution_count": 2,
   "id": "dac225c4-c33e-4fcc-87e3-c2ae0d307419",
   "metadata": {},
   "outputs": [],
   "source": [
    "from backtest.components.core import ZipKLineIterator1s\n",
    "from backtest.components import KLineMarket\n",
    "\n",
    "from datetime import datetime, timezone\n",
    "import pandas as pd\n",
    "\n",
    "start_time = datetime(2023, 1, 1, tzinfo=timezone.utc).timestamp() * 1000  # Load one month in advance to do feature engineering\n",
    "end_time = datetime(2023, 5, 1, tzinfo=timezone.utc).timestamp() * 1000 - 1\n",
    "data_source = '/home/yite/crypto_data/binance/data'\n",
    "kline_iterator = ZipKLineIterator1s('BTCUSDT', start_time, end_time, data_source)\n",
    "df = kline_iterator.to_dataframe()\n",
    "df = df[[\"close\", \"volume\", \"open_time\"]]\n",
    "df['date'] = pd.to_datetime(df['open_time'], unit='ms')\n",
    "df.set_index('date', inplace=True)\n"
   ]
  },
  {
   "cell_type": "code",
   "execution_count": 3,
   "id": "083aea0b-8173-481b-87dc-edcffff107c5",
   "metadata": {},
   "outputs": [
    {
     "data": {
      "text/html": [
       "<div>\n",
       "<style scoped>\n",
       "    .dataframe tbody tr th:only-of-type {\n",
       "        vertical-align: middle;\n",
       "    }\n",
       "\n",
       "    .dataframe tbody tr th {\n",
       "        vertical-align: top;\n",
       "    }\n",
       "\n",
       "    .dataframe thead th {\n",
       "        text-align: right;\n",
       "    }\n",
       "</style>\n",
       "<table border=\"1\" class=\"dataframe\">\n",
       "  <thead>\n",
       "    <tr style=\"text-align: right;\">\n",
       "      <th></th>\n",
       "      <th>close</th>\n",
       "      <th>volume</th>\n",
       "      <th>open_time</th>\n",
       "    </tr>\n",
       "    <tr>\n",
       "      <th>date</th>\n",
       "      <th></th>\n",
       "      <th></th>\n",
       "      <th></th>\n",
       "    </tr>\n",
       "  </thead>\n",
       "  <tbody>\n",
       "    <tr>\n",
       "      <th>2023-01-01 00:00:00</th>\n",
       "      <td>16542.37</td>\n",
       "      <td>2.03879</td>\n",
       "      <td>1672531200000</td>\n",
       "    </tr>\n",
       "    <tr>\n",
       "      <th>2023-01-01 00:00:01</th>\n",
       "      <td>16542.16</td>\n",
       "      <td>2.34046</td>\n",
       "      <td>1672531201000</td>\n",
       "    </tr>\n",
       "    <tr>\n",
       "      <th>2023-01-01 00:00:02</th>\n",
       "      <td>16541.62</td>\n",
       "      <td>0.46549</td>\n",
       "      <td>1672531202000</td>\n",
       "    </tr>\n",
       "    <tr>\n",
       "      <th>2023-01-01 00:00:03</th>\n",
       "      <td>16541.78</td>\n",
       "      <td>1.55876</td>\n",
       "      <td>1672531203000</td>\n",
       "    </tr>\n",
       "    <tr>\n",
       "      <th>2023-01-01 00:00:04</th>\n",
       "      <td>16541.95</td>\n",
       "      <td>2.26832</td>\n",
       "      <td>1672531204000</td>\n",
       "    </tr>\n",
       "    <tr>\n",
       "      <th>...</th>\n",
       "      <td>...</td>\n",
       "      <td>...</td>\n",
       "      <td>...</td>\n",
       "    </tr>\n",
       "    <tr>\n",
       "      <th>2023-04-30 23:59:55</th>\n",
       "      <td>29223.20</td>\n",
       "      <td>2.99941</td>\n",
       "      <td>1682899195000</td>\n",
       "    </tr>\n",
       "    <tr>\n",
       "      <th>2023-04-30 23:59:56</th>\n",
       "      <td>29223.20</td>\n",
       "      <td>0.95576</td>\n",
       "      <td>1682899196000</td>\n",
       "    </tr>\n",
       "    <tr>\n",
       "      <th>2023-04-30 23:59:57</th>\n",
       "      <td>29223.20</td>\n",
       "      <td>0.46071</td>\n",
       "      <td>1682899197000</td>\n",
       "    </tr>\n",
       "    <tr>\n",
       "      <th>2023-04-30 23:59:58</th>\n",
       "      <td>29226.06</td>\n",
       "      <td>0.42467</td>\n",
       "      <td>1682899198000</td>\n",
       "    </tr>\n",
       "    <tr>\n",
       "      <th>2023-04-30 23:59:59</th>\n",
       "      <td>29233.21</td>\n",
       "      <td>1.10619</td>\n",
       "      <td>1682899199000</td>\n",
       "    </tr>\n",
       "  </tbody>\n",
       "</table>\n",
       "<p>10363218 rows × 3 columns</p>\n",
       "</div>"
      ],
      "text/plain": [
       "                        close   volume      open_time\n",
       "date                                                 \n",
       "2023-01-01 00:00:00  16542.37  2.03879  1672531200000\n",
       "2023-01-01 00:00:01  16542.16  2.34046  1672531201000\n",
       "2023-01-01 00:00:02  16541.62  0.46549  1672531202000\n",
       "2023-01-01 00:00:03  16541.78  1.55876  1672531203000\n",
       "2023-01-01 00:00:04  16541.95  2.26832  1672531204000\n",
       "...                       ...      ...            ...\n",
       "2023-04-30 23:59:55  29223.20  2.99941  1682899195000\n",
       "2023-04-30 23:59:56  29223.20  0.95576  1682899196000\n",
       "2023-04-30 23:59:57  29223.20  0.46071  1682899197000\n",
       "2023-04-30 23:59:58  29226.06  0.42467  1682899198000\n",
       "2023-04-30 23:59:59  29233.21  1.10619  1682899199000\n",
       "\n",
       "[10363218 rows x 3 columns]"
      ]
     },
     "execution_count": 3,
     "metadata": {},
     "output_type": "execute_result"
    }
   ],
   "source": [
    "df"
   ]
  },
  {
   "cell_type": "markdown",
   "id": "9b7c78e5-5450-4e74-ac72-9f00f1a86334",
   "metadata": {},
   "source": [
    "# Feature engineering\n",
    "The feature engineering is try to derive different aspect,...moving average, volatility, etc\n",
    "The result should be the state vector as descrbe at the top"
   ]
  },
  {
   "cell_type": "code",
   "execution_count": 5,
   "id": "192aa8b7-58ec-4353-b702-2c4950611f95",
   "metadata": {},
   "outputs": [],
   "source": [
    "import numpy as np"
   ]
  },
  {
   "cell_type": "code",
   "execution_count": 6,
   "id": "0526fcf9-7649-4006-ab69-42c2da6a4c63",
   "metadata": {},
   "outputs": [],
   "source": [
    "df = df[['close', 'volume']].copy()\n",
    "df['log_close'] = np.log(df['close'])\n",
    "df['log_return'] = df['log_close'].diff()\n",
    "for i in range(0, 19):\n",
    "    window = 30 * 2 ** i\n",
    "    df[f'log_return_ma_{window}'] = df['log_return'].rolling(window=window).mean() * 86400 # Daily return of 30 * i  second moving average\n",
    "    "
   ]
  },
  {
   "cell_type": "code",
   "execution_count": null,
   "id": "d2d66892-3d47-4e31-8421-1def315df25b",
   "metadata": {},
   "outputs": [],
   "source": [
    "import plotly.graph_objects as go\n",
    "\n",
    "n_col = 10\n",
    "subset = [f'log_return_ma_{30 * 2 ** i}' for i in range(n_col)]\n",
    "df_clean = df.dropna(subset=subset)\n",
    "traces = []\n",
    "for col in subset:\n",
    "    trace = go.Scatter(x=df_clean.index, y=df_clean[col], mode='lines', name=col)\n",
    "    traces.append(trace)\n",
    "    \n",
    "# Create the figure object\n",
    "fig = go.Figure(data=traces)\n",
    "\n",
    "# Update layout\n",
    "fig.update_layout(title='Plot of Daily moving average',\n",
    "                  xaxis_title='timestamp',\n",
    "                  yaxis_title='return',\n",
    "                  legend_title='Legend')\n",
    "\n",
    "# Show plot\n",
    "fig.show()"
   ]
  },
  {
   "cell_type": "code",
   "execution_count": 8,
   "id": "c08cf989-c74e-4e40-8e1c-c8cd4afc55c0",
   "metadata": {},
   "outputs": [],
   "source": [
    "n_col = 10\n",
    "subset = [f'log_return_ma_{30 * 2 ** i}' for i in range(n_col)]\n",
    "df_clean = df.dropna(subset=subset)"
   ]
  },
  {
   "cell_type": "code",
   "execution_count": 11,
   "id": "b27aafbc-42cf-474d-bd87-11d32b97b296",
   "metadata": {},
   "outputs": [],
   "source": [
    "df_clean[subset].to_csv(\"result.csv\")"
   ]
  }
 ],
 "metadata": {
  "kernelspec": {
   "display_name": "Python 3 (ipykernel)",
   "language": "python",
   "name": "python3"
  },
  "language_info": {
   "codemirror_mode": {
    "name": "ipython",
    "version": 3
   },
   "file_extension": ".py",
   "mimetype": "text/x-python",
   "name": "python",
   "nbconvert_exporter": "python",
   "pygments_lexer": "ipython3",
   "version": "3.10.12"
  }
 },
 "nbformat": 4,
 "nbformat_minor": 5
}
